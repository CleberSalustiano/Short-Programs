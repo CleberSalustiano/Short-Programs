{
  "nbformat": 4,
  "nbformat_minor": 0,
  "metadata": {
    "colab": {
      "name": "envioEmail.ipynb",
      "provenance": [],
      "collapsed_sections": []
    },
    "kernelspec": {
      "name": "python3",
      "display_name": "Python 3"
    },
    "language_info": {
      "name": "python"
    }
  },
  "cells": [
    {
      "cell_type": "code",
      "execution_count": null,
      "metadata": {
        "id": "X6B0qszUAo2v"
      },
      "outputs": [],
      "source": [
        "import smtplib\n",
        "\n",
        "import email\n",
        "import email.mime.application\n",
        "\n",
        "server = smtplib.SMTP_SSL('smtp.gmail.com', 465)\n",
        "server.login(\"<email>@gmail.com\", \"<codigo>\")\n",
        "server.sendmail(\n",
        "  \"<email>@gmail.com\",\n",
        "  \"<email>@hotmail.com\",\n",
        "  \"Teste de mensagem\")\n",
        "server.quit()"
      ]
    },
    {
      "cell_type": "markdown",
      "source": [
        "Exemplo a ser estudado abaixo:"
      ],
      "metadata": {
        "id": "mAL-I069DnS8"
      }
    },
    {
      "cell_type": "code",
      "source": [
        "import smtplib\n",
        "\n",
        "# Trabalhando com mimetypes\n",
        "import mimetypes\n",
        "\n",
        "# Modulos para manipulação de email\n",
        "import email\n",
        "import email.mime.application\n",
        "\n",
        "# Cabeçalho da mensagem do email\n",
        "msg = email.mime.Multipart.MIMEMultipart()\n",
        "msg['Subject'] = 'Teste enviando email'\n",
        "msg['From'] = 'seumail@server.com'\n",
        "msg['To'] = 'destino@server.com'\n",
        "\n",
        "# Corpo principal do email (tb um anexo)\n",
        "body = email.mime.Text.MIMEText(\"\"\"Olá, esse é um teste de eamail, enviando PDF\"\"\")\n",
        "msg.attach(body)\n",
        "\n",
        "# Anexando o PDF\n",
        "pdfname='path/meu.pdf'\n",
        "fp=open(pdfname,'rb')\n",
        "anexo = email.mime.application.MIMEApplication(fp.read(),_subtype=\"pdf\")\n",
        "fp.close()\n",
        "anexo.add_header('Content-Disposition','attachment',filename=pdfname)\n",
        "msg.attach(anexo)\n",
        "\n",
        "# Enviando via \"fake\" server \n",
        "s = smtplib.SMTP('smtp.fake.com')\n",
        "s.starttls()\n",
        "s.login('fake@fake.com','mypassword')\n",
        "s.sendmail('fake@fake.com',['fake@fake.com'], msg.as_string())\n",
        "s.quit()"
      ],
      "metadata": {
        "id": "NHpkObIkDljZ"
      },
      "execution_count": null,
      "outputs": []
    }
  ]
}