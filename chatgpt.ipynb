{
  "nbformat": 4,
  "nbformat_minor": 0,
  "metadata": {
    "colab": {
      "provenance": [],
      "authorship_tag": "ABX9TyNropG9JMvHY/F61WOrYFrA",
      "include_colab_link": true
    },
    "kernelspec": {
      "name": "python3",
      "display_name": "Python 3"
    },
    "language_info": {
      "name": "python"
    }
  },
  "cells": [
    {
      "cell_type": "markdown",
      "metadata": {
        "id": "view-in-github",
        "colab_type": "text"
      },
      "source": [
        "<a href=\"https://colab.research.google.com/github/CleberSalustiano/Short-Programs/blob/main/chatgpt.ipynb\" target=\"_parent\"><img src=\"https://colab.research.google.com/assets/colab-badge.svg\" alt=\"Open In Colab\"/></a>"
      ]
    },
    {
      "cell_type": "code",
      "execution_count": null,
      "metadata": {
        "id": "UFREvtrspipJ"
      },
      "outputs": [],
      "source": [
        "import openai\n",
        "\n",
        "# Set up your OpenAI API credentials\n",
        "openai.api_key = 'YOUR_API_KEY'\n",
        "\n",
        "# Define a function to send a message and receive a response\n",
        "def chat_with_model(message):\n",
        "    response = openai.Completion.create(\n",
        "        engine='text-davinci-003',\n",
        "        prompt=message,\n",
        "        max_tokens=50,\n",
        "        temperature=0.7,\n",
        "        n=1,\n",
        "        stop=None,\n",
        "        timeout=10\n",
        "    )\n",
        "\n",
        "    return response.choices[0].text.strip()\n",
        "\n",
        "# Start the conversation\n",
        "print(\"AI: Hello! How can I assist you today?\")\n",
        "user_input = \"\"\n",
        "\n",
        "while user_input.lower() != \"bye\":\n",
        "    user_input = input(\"You: \")\n",
        "    conversation_history = \"AI: Hello! How can I assist you today?\\nYou: \" + user_input + \"\\nAI:\"\n",
        "\n",
        "    response = chat_with_model(conversation_history)\n",
        "    conversation_history += \" \" + response\n",
        "    print(\"AI:\", response)\n",
        "\n",
        "print(\"AI: Goodbye! Have a great day!\")\n"
      ]
    }
  ]
}