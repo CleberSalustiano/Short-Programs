{
  "cells": [
    {
      "cell_type": "markdown",
      "metadata": {},
      "source": [
        "The goal is to genarate data on format registrationNumber;name;testScore\n"
      ]
    },
    {
      "cell_type": "code",
      "execution_count": null,
      "metadata": {
        "colab": {
          "base_uri": "https://localhost:8080/"
        },
        "id": "FKCnjM4-KZpj",
        "outputId": "82ad28b3-8898-405d-9ade-2526c762837d"
      },
      "outputs": [],
      "source": [
        "!pip install Faker"
      ]
    },
    {
      "cell_type": "code",
      "execution_count": null,
      "metadata": {
        "id": "xlCpt03WKcIh"
      },
      "outputs": [],
      "source": [
        "from faker import Faker\n",
        "import random\n",
        "\n",
        "fake = Faker()\n",
        "\n",
        "for i in range(100):\n",
        "  print(str(i + random.randint(50, 12301)) + \";\" + fake.name() + \";\" + str(random.randint(50, 100)))"
      ]
    },
    {
      "cell_type": "code",
      "execution_count": null,
      "metadata": {
        "id": "S2fDvv_vM9p5"
      },
      "outputs": [],
      "source": [
        "from faker import Faker\n",
        "import random\n",
        "\n",
        "fake = Faker()\n",
        "\n",
        "for i in range(5000):\n",
        "  print(str(i + random.randint(0, 10000000)) + \";\" + fake.name() + \";\" + str(random.randint(50, 100)))"
      ]
    }
  ],
  "metadata": {
    "colab": {
      "collapsed_sections": [],
      "provenance": []
    },
    "kernelspec": {
      "display_name": "Python 3",
      "name": "python3"
    },
    "language_info": {
      "name": "python"
    }
  },
  "nbformat": 4,
  "nbformat_minor": 0
}
