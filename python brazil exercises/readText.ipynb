{
  "nbformat": 4,
  "nbformat_minor": 2,
  "metadata": {
    "colab": {
      "name": "Untitled0.ipynb",
      "provenance": [],
      "collapsed_sections": []
    },
    "kernelspec": {
      "name": "python3",
      "display_name": "Python 3"
    },
    "language_info": {
      "name": "python"
    }
  },
  "cells": [
    {
      "cell_type": "code",
      "execution_count": 56,
      "source": [
        "with open(\"usuarios.txt\", \"r\") as arquivo:\r\n",
        "  newProgram = 'ACME Inc.         Uso do espaço em disco pelos usuários\\n'\r\n",
        "  newProgram += '-------------------------------------------------------------\\n'\r\n",
        "  newProgram += 'Nr., Usuario, Espaço utilizado, % do uso\\n\\n'\r\n",
        "  lines = arquivo.readlines()\r\n",
        "  total = 0\r\n",
        "  for line in lines:\r\n",
        "    total += int(line.split(',')[1]) / (1024**2)\r\n",
        "  i = 1\r\n",
        "  for line in lines:\r\n",
        "    newProgram += str(i) + ','\r\n",
        "    newProgram += line.split(',')[0] + ','\r\n",
        "    newProgram += str(round(int(line.split(',')[1]) / (1024**2), 2)) + \"MB,\"\r\n",
        "    newProgram += str(round(int(line.split(',')[1]) / (1024**2) / total,2)) + \"%\\n\"\r\n",
        "    i += 1\r\n",
        "  \r\n",
        "  newProgram += 'Espaço total ocupado: ' + str(round(total,2)) + '\\n'\r\n",
        "  newProgram += 'Espaço medio ocupado: ' + str(round(total/i,2)) + '\\n'\r\n",
        "\r\n",
        "with open('relatotio.txt', 'w') as arquivo:\r\n",
        "  arquivo.write(newProgram)\r\n",
        "\r\n"
      ],
      "outputs": [
        {
          "output_type": "stream",
          "name": "stdout",
          "text": [
            "ACME Inc.         Uso do espaço em disco pelos usuários\n",
            "-------------------------------------------------------------\n",
            "Nr., Usuario, Espaço utilizado, % do uso\n",
            "\n",
            "1,alexandre,434.99MB,0.17%\n",
            "2,anderson,1187.99MB,0.46%\n",
            "3,antonio,117.74MB,0.05%\n",
            "4,carlos,87.03MB,0.03%\n",
            "5,cesar,0.94MB,0.0%\n",
            "6,rosemary,752.88MB,0.29%\n",
            "Espaço total ocupado: 2581.58\n",
            "Espaço medio ocupado: 368.8\n",
            "\n"
          ]
        }
      ],
      "metadata": {
        "colab": {
          "base_uri": "https://localhost:8080/"
        },
        "id": "OyIppDTlYdvV",
        "outputId": "1e584aaf-d29d-4573-e778-6c85577a2259"
      }
    }
  ]
}