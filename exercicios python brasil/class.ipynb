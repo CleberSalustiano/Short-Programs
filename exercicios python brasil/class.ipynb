{
  "nbformat": 4,
  "nbformat_minor": 0,
  "metadata": {
    "colab": {
      "name": "class.ipynb",
      "provenance": [],
      "collapsed_sections": []
    },
    "kernelspec": {
      "name": "python3",
      "display_name": "Python 3"
    },
    "language_info": {
      "name": "python"
    }
  },
  "cells": [
    {
      "cell_type": "markdown",
      "source": [
        "Class exercise from Python Wiki\n"
      ],
      "metadata": {
        "id": "kIw2s-C9mRtV"
      }
    },
    {
      "cell_type": "code",
      "execution_count": 28,
      "metadata": {
        "colab": {
          "base_uri": "https://localhost:8080/"
        },
        "id": "FClhEzKDhOVd",
        "outputId": "b1656310-658d-44ab-e820-f13e33f78349"
      },
      "outputs": [
        {
          "output_type": "stream",
          "name": "stdout",
          "text": [
            "white\n",
            "green\n"
          ]
        }
      ],
      "source": [
        "class Ball:\n",
        "  def __init__ (self, color, circule, material):\n",
        "    self.__color = color\n",
        "    self.__circule = circule\n",
        "    self.material = material\n",
        "\n",
        "  def chooseColor (self, color):\n",
        "    self.__color = color\n",
        "\n",
        "  def showColor (self):\n",
        "    return self.__color\n",
        "\n",
        "ball = Ball('white', 123, 'aço')\n",
        "print(ball.showColor())\n",
        "ball.chooseColor('green')\n",
        "print(ball.showColor())"
      ]
    },
    {
      "cell_type": "markdown",
      "source": [
        "When use the `__` in code, like :\n",
        "\n",
        "```\n",
        "self.__color = color\n",
        "self.__circule = circule\n",
        "```\n",
        "\n",
        "It's a private atribute the same thing made in Java like:\n",
        "\n",
        "```\n",
        "private int color = 2\n",
        "```"
      ],
      "metadata": {
        "id": "nW7VcEGYpEVj"
      }
    },
    {
      "cell_type": "code",
      "source": [
        "class Square:\n",
        "  def __init__(self, side):\n",
        "    self.side = side\n",
        "  \n",
        "  def setSide(self, side):\n",
        "    self.side = side\n",
        "  \n",
        "  def getSide(self):\n",
        "    return self.side\n",
        "  \n",
        "  def getArea(self):\n",
        "    return self.side**2\n",
        "\n",
        "square = Square(3)\n",
        "print(square.getSide())\n",
        "square.setSide(12)\n",
        "print(square.getSide())\n",
        "print(square.getArea())"
      ],
      "metadata": {
        "colab": {
          "base_uri": "https://localhost:8080/"
        },
        "id": "AcDbK31DlLTu",
        "outputId": "0cab1d88-d217-4fac-e363-14ff23c915f4"
      },
      "execution_count": 18,
      "outputs": [
        {
          "output_type": "stream",
          "name": "stdout",
          "text": [
            "3\n",
            "12\n",
            "144\n"
          ]
        }
      ]
    },
    {
      "cell_type": "code",
      "source": [
        "class Rectangle:\n",
        "  def __init__(self, sideA, sideB):\n",
        "    self.sideA = sideA\n",
        "    self.sideB = sideB\n",
        "\n",
        "  def setSide(self, sideA, sideB):\n",
        "    self.sideA = sideA\n",
        "    self.sideB = sideB\n",
        "  \n",
        "  def getSide(self):\n",
        "    return (self.sideA, self.sideB)\n",
        "  \n",
        "  def getArea(self):\n",
        "    return self.sideA*self.sideB\n",
        "  \n",
        "  def getPerimeter(self):\n",
        "    return self.sideA*2 + self.sideB*2\n",
        "  \n",
        "\n",
        "sideA = int(input('Type the side A: '))\n",
        "sideB = int(input('Type the side B: '))\n",
        "rectangle = Rectangle(sideA,sideB)\n",
        "print('The area is', rectangle.getArea(), 'and the perimeter is', rectangle.getPerimeter())"
      ],
      "metadata": {
        "colab": {
          "base_uri": "https://localhost:8080/"
        },
        "id": "a6ByfhnjmCZF",
        "outputId": "e77606cf-0ee6-41c0-83e6-aceb58b9fabf"
      },
      "execution_count": 25,
      "outputs": [
        {
          "output_type": "stream",
          "name": "stdout",
          "text": [
            "Type the side A: 3\n",
            "Type the side B: 2\n",
            "The area is 6 and the perimeter is 10\n"
          ]
        }
      ]
    },
    {
      "cell_type": "code",
      "source": [
        ""
      ],
      "metadata": {
        "id": "KwqX9SvNoJmy"
      },
      "execution_count": null,
      "outputs": []
    }
  ]
}