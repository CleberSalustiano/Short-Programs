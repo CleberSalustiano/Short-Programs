{
  "nbformat": 4,
  "nbformat_minor": 0,
  "metadata": {
    "colab": {
      "name": "class.ipynb",
      "provenance": [],
      "collapsed_sections": []
    },
    "kernelspec": {
      "name": "python3",
      "display_name": "Python 3"
    },
    "language_info": {
      "name": "python"
    }
  },
  "cells": [
    {
      "cell_type": "markdown",
      "source": [
        "Class exercise from Python Wiki\n"
      ],
      "metadata": {
        "id": "kIw2s-C9mRtV"
      }
    },
    {
      "cell_type": "code",
      "execution_count": null,
      "metadata": {
        "colab": {
          "base_uri": "https://localhost:8080/"
        },
        "id": "FClhEzKDhOVd",
        "outputId": "b1656310-658d-44ab-e820-f13e33f78349"
      },
      "outputs": [
        {
          "output_type": "stream",
          "name": "stdout",
          "text": [
            "white\n",
            "green\n"
          ]
        }
      ],
      "source": [
        "class Ball:\n",
        "  def __init__ (self, color, circule, material):\n",
        "    self.__color = color\n",
        "    self.__circule = circule\n",
        "    self.material = material\n",
        "\n",
        "  def chooseColor (self, color):\n",
        "    self.__color = color\n",
        "\n",
        "  def showColor (self):\n",
        "    return self.__color\n",
        "\n",
        "ball = Ball('white', 123, 'aço')\n",
        "print(ball.showColor())\n",
        "ball.chooseColor('green')\n",
        "print(ball.showColor())"
      ]
    },
    {
      "cell_type": "markdown",
      "source": [
        "When use the `__` in code, like :\n",
        "\n",
        "```\n",
        "self.__color = color\n",
        "self.__circule = circule\n",
        "```\n",
        "\n",
        "It's a private atribute the same thing made in Java like:\n",
        "\n",
        "```\n",
        "private int color = 2\n",
        "```"
      ],
      "metadata": {
        "id": "nW7VcEGYpEVj"
      }
    },
    {
      "cell_type": "code",
      "source": [
        "class Square:\n",
        "  def __init__(self, side):\n",
        "    self.side = side\n",
        "  \n",
        "  def setSide(self, side):\n",
        "    self.side = side\n",
        "  \n",
        "  def getSide(self):\n",
        "    return self.side\n",
        "  \n",
        "  def getArea(self):\n",
        "    return self.side**2\n",
        "\n",
        "square = Square(3)\n",
        "print(square.getSide())\n",
        "square.setSide(12)\n",
        "print(square.getSide())\n",
        "print(square.getArea())"
      ],
      "metadata": {
        "colab": {
          "base_uri": "https://localhost:8080/"
        },
        "id": "AcDbK31DlLTu",
        "outputId": "0cab1d88-d217-4fac-e363-14ff23c915f4"
      },
      "execution_count": null,
      "outputs": [
        {
          "output_type": "stream",
          "name": "stdout",
          "text": [
            "3\n",
            "12\n",
            "144\n"
          ]
        }
      ]
    },
    {
      "cell_type": "code",
      "source": [
        "class Rectangle:\n",
        "  def __init__(self, sideA, sideB):\n",
        "    self.sideA = sideA\n",
        "    self.sideB = sideB\n",
        "\n",
        "  def setSide(self, sideA, sideB):\n",
        "    self.sideA = sideA\n",
        "    self.sideB = sideB\n",
        "  \n",
        "  def getSide(self):\n",
        "    return (self.sideA, self.sideB)\n",
        "  \n",
        "  def getArea(self):\n",
        "    return self.sideA*self.sideB\n",
        "  \n",
        "  def getPerimeter(self):\n",
        "    return self.sideA*2 + self.sideB*2\n",
        "  \n",
        "\n",
        "sideA = int(input('Type the side A: '))\n",
        "sideB = int(input('Type the side B: '))\n",
        "rectangle = Rectangle(sideA,sideB)\n",
        "print('The area is', rectangle.getArea(), 'and the perimeter is', rectangle.getPerimeter())"
      ],
      "metadata": {
        "colab": {
          "base_uri": "https://localhost:8080/"
        },
        "id": "a6ByfhnjmCZF",
        "outputId": "e77606cf-0ee6-41c0-83e6-aceb58b9fabf"
      },
      "execution_count": null,
      "outputs": [
        {
          "output_type": "stream",
          "name": "stdout",
          "text": [
            "Type the side A: 3\n",
            "Type the side B: 2\n",
            "The area is 6 and the perimeter is 10\n"
          ]
        }
      ]
    },
    {
      "cell_type": "code",
      "source": [
        "class Person:\n",
        "  def __init__(self, name, age, weight, height):\n",
        "    self.name = name\n",
        "    self.age = age\n",
        "    self.weight = weight \n",
        "    self.height = height\n",
        "\n",
        "  def getOld(self):\n",
        "    self.age += 1\n",
        "    if self.age <= 21:\n",
        "      self.height += 0.05\n",
        "\n",
        "    return self.age\n",
        "\n",
        "  def loseWeight(self, loseValue):\n",
        "    self.weight -= loseValue\n",
        "  \n",
        "  def gainWeight(self, gainValue):\n",
        "    self.weigth += gainValue\n",
        "\n",
        "  def toGrow(self, growValue):\n",
        "    self.height += growValue\n",
        "\n",
        "\n",
        "person = Person('name', 16, 120, 1.80 )\n",
        "person.getOld()\n",
        "print(person.getOld())\n",
        "print(round(person.height,2))"
      ],
      "metadata": {
        "colab": {
          "base_uri": "https://localhost:8080/"
        },
        "id": "9cRKtjou0VnT",
        "outputId": "20d66b93-d76b-4301-c002-404d2e90b447"
      },
      "execution_count": null,
      "outputs": [
        {
          "output_type": "stream",
          "name": "stdout",
          "text": [
            "18\n",
            "1.9\n"
          ]
        }
      ]
    },
    {
      "cell_type": "code",
      "source": [
        "class CurrentAccount:\n",
        "\n",
        "  def __init__(self, accountNumber, currentistName, balance):\n",
        "    self.accountNumber = accountNumber\n",
        "    self.currentistName = currentistName\n",
        "    self.balance = balance\n",
        "\n",
        "  def changeName(self, currentistName):\n",
        "    self.currentistName = currentistName\n",
        "  \n",
        "  def seeName(self):\n",
        "    return self.currentistName\n",
        "   \n",
        "  def deposit(self, value):\n",
        "    self.balance += value\n",
        "\n",
        "  def withdraw(self, value):\n",
        "    self.balance -= value\n",
        "\n",
        "\n",
        "accountOne = CurrentAccount(1234, 'Cleber', 1235)\n",
        "print(accountOne.seeName())\n",
        "accountOne.changeName(\"Bankai\")\n",
        "print(accountOne.seeName())\n",
        "accountOne.deposit(12000)\n",
        "accountOne.withdraw(1200)\n",
        "print(accountOne.balance)\n"
      ],
      "metadata": {
        "colab": {
          "base_uri": "https://localhost:8080/"
        },
        "id": "dDfd62Qi5DH1",
        "outputId": "edd10824-c8cc-484a-c5d6-172b16e8994a"
      },
      "execution_count": 10,
      "outputs": [
        {
          "output_type": "stream",
          "name": "stdout",
          "text": [
            "Cleber\n",
            "Bankai\n",
            "12035\n"
          ]
        }
      ]
    }
  ]
}