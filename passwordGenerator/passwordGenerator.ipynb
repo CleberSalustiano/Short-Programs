{
  "nbformat": 4,
  "nbformat_minor": 0,
  "metadata": {
    "colab": {
      "name": "passwordGenerator.ipynb",
      "provenance": [],
      "collapsed_sections": []
    },
    "kernelspec": {
      "name": "python3",
      "display_name": "Python 3"
    },
    "language_info": {
      "name": "python"
    }
  },
  "cells": [
    {
      "cell_type": "code",
      "execution_count": 4,
      "metadata": {
        "colab": {
          "base_uri": "https://localhost:8080/"
        },
        "id": "fGpa4TGEf5le",
        "outputId": "7e85d860-cc86-4a0d-cc56-9a104076d82e"
      },
      "outputs": [
        {
          "output_type": "stream",
          "name": "stdout",
          "text": [
            "Welcome to PasswordGenarator\n",
            "\n",
            "--------------------------------\n",
            "\n",
            "Choose an option:\n",
            "1-Without letters and special character\n",
            "2-Without special character and uppercase\n",
            "3-Without special character\n",
            "4-Perfect passworld\n",
            "2\n",
            "Type the password length\n",
            "22\n",
            "7w2ik0m739bxg70d5u135r\n"
          ]
        }
      ],
      "source": [
        "import random\n",
        "\n",
        "print('Welcome to PasswordGenarator\\n')\n",
        "print('--------------------------------\\n')\n",
        "menu = \"Choose an option:\\n1-Without letters and special character\\n2-Without special character and uppercase\\n3-Without special character\\n4-Perfect passworld\\n\"\n",
        "password = ''\n",
        "option = int(input(menu))\n",
        "alphabet = ['a', 'b', 'c', 'd', 'e', 'f', 'g', 'h',\n",
        "            'i', 'j', 'k', 'l', 'm', 'n', 'o', 'p',\n",
        "            'q', 'r', 's', 't', 'u', 'v', 'w', 'x', 'y', 'z']\n",
        "specialCharacters = ['!', '@', '#', '$', '%', '&', '.', ',']\n",
        "\n",
        "\n",
        "\n",
        "if(option == 1):\n",
        "  option = int(input(\"Type the password length\\n\"))\n",
        "  for i in range(0, option):\n",
        "    password += str(random.randint(0,9))\n",
        "\n",
        "elif (option == 2):\n",
        "  option = int(input(\"Type the password length\\n\"))\n",
        "  for i in range(0, option):\n",
        "    option = random.randint(0, 1)\n",
        "    if(option == 1):\n",
        "      password += str(random.randint(0,9))\n",
        "    else:\n",
        "      password += str(random.choice(alphabet))\n",
        "      \n",
        "elif (option == 3):\n",
        "  option = int(input(\"Type the password length\\n\"))\n",
        "  for i in range(0, option):\n",
        "    option = random.randint(0, 3)\n",
        "    if(option == 0):\n",
        "      password += str(random.randint(0,9))\n",
        "    elif(option == 1):\n",
        "      password += str(random.choice(alphabet))\n",
        "    elif(option == 2):\n",
        "      password += str(random.choice(alphabet)).upper()\n",
        "\n",
        "elif (option == 4):\n",
        "  option = int(input(\"Type the password length\\n\"))\n",
        "  for i in range(0, option):\n",
        "    option = random.randint(0, 3)\n",
        "    if(option == 0):\n",
        "      password += str(random.randint(0,9))\n",
        "    elif(option == 1):\n",
        "      password += str(random.choice(alphabet))\n",
        "    elif(option == 2):\n",
        "      password += str(random.choice(alphabet)).upper()\n",
        "    else:\n",
        "      password += str(random.choice(specialCharacters))\n",
        "else:\n",
        "  password = \"This option doesn't exists\"\n",
        "          \n",
        "print(password)\n"
      ]
    }
  ]
}