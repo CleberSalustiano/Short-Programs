{
  "nbformat": 4,
  "nbformat_minor": 0,
  "metadata": {
    "colab": {
      "provenance": [],
      "collapsed_sections": []
    },
    "kernelspec": {
      "name": "python3",
      "display_name": "Python 3"
    },
    "language_info": {
      "name": "python"
    }
  },
  "cells": [
    {
      "cell_type": "markdown",
      "source": [
        "Baixando o ColabCode para dar início ao Code Server"
      ],
      "metadata": {
        "id": "5Yfp3K6KaK93"
      }
    },
    {
      "cell_type": "code",
      "execution_count": null,
      "metadata": {
        "id": "LtrnCV4nZ3CE"
      },
      "outputs": [],
      "source": [
        " !pip install colabcode"
      ]
    },
    {
      "cell_type": "code",
      "source": [
        "!wget https://bin.equinox.io/c/bNyj1mQVY4c/ngrok-v3-stable-linux-amd64.tgz\n",
        "!tar -xvzf ngrok-v3-stable-linux-amd64.tgz\n",
        "!ngrok authtoken yourtoken"
      ],
      "metadata": {
        "id": "wLKLm3Vcb4vo"
      },
      "execution_count": null,
      "outputs": []
    },
    {
      "cell_type": "markdown",
      "source": [
        "Para deixar esse código rodando no limbo, basta colocar o código abaixo no navegador:\n",
        "```js\n",
        "function ConnectButton(){\n",
        "    console.log(\"Connect pushed\"); \n",
        "    document.querySelector(\"#top-toolbar > colab-connect-button\").shadowRoot.querySelector(\"#connect\").click() \n",
        "}\n",
        "\n",
        "var colab = setInterval(ConnectButton,60000);\n",
        "```"
      ],
      "metadata": {
        "id": "ylmI8iUQ58EH"
      }
    },
    {
      "cell_type": "markdown",
      "source": [
        "Executa o código e monta o drive dentro da aplicação"
      ],
      "metadata": {
        "id": "J02Fa26H6OBT"
      }
    },
    {
      "cell_type": "code",
      "source": [
        "from colabcode import ColabCode\n",
        "\n",
        "ColabCode(port=10000, password=\"1234\", mount_drive=True)"
      ],
      "metadata": {
        "id": "5TTQJztMZ6Gp",
        "colab": {
          "base_uri": "https://localhost:8080/"
        },
        "outputId": "3274077f-4cfa-4463-9ed8-87749c3cd7c5"
      },
      "execution_count": null,
      "outputs": [
        {
          "output_type": "stream",
          "name": "stdout",
          "text": [
            "Code Server can be accessed on: NgrokTunnel: \"https://b386-35-232-204-19.ngrok.io\" -> \"http://localhost:10000\"\n",
            "Drive already mounted at /content/drive; to attempt to forcibly remount, call drive.mount(\"/content/drive\", force_remount=True).\n",
            "[2022-10-17T17:03:55.323Z] info  code-server 3.10.2 387b12ef4ca404ffd39d84834e1f0776e9e3c005\n",
            "[2022-10-17T17:03:55.326Z] info  Using user-data-dir ~/.local/share/code-server\n",
            "[2022-10-17T17:03:55.347Z] info  Using config file ~/.config/code-server/config.yaml\n",
            "[2022-10-17T17:03:55.347Z] info  HTTP server listening on http://127.0.0.1:10000 \n",
            "[2022-10-17T17:03:55.347Z] info    - Authentication is enabled\n",
            "[2022-10-17T17:03:55.347Z] info      - Using password from $PASSWORD\n",
            "[2022-10-17T17:03:55.347Z] info    - Not serving HTTPS \n"
          ]
        }
      ]
    }
  ]
}